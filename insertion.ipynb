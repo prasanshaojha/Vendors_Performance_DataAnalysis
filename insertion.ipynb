{
 "cells": [
  {
   "cell_type": "code",
   "execution_count": 2,
   "id": "3dca0f64",
   "metadata": {},
   "outputs": [],
   "source": [
    "import pandas as pd \n",
    "from dotenv import load_dotenv\n",
    "from logger import logging\n",
    "from datetime import datetime\n",
    "from sqlalchemy import create_engine\n",
    "from timelog import timetaken\n",
    "import os"
   ]
  },
  {
   "cell_type": "code",
   "execution_count": null,
   "id": "53b8bc0e",
   "metadata": {},
   "outputs": [],
   "source": [
    "def list_of_table(path):\n",
    "    try:\n",
    "        file = []\n",
    "        starttime = datetime.now()\n",
    "        for f in os.listdir(path):\n",
    "            if f.endswith(\".csv\"):\n",
    "                logging.info(f\"file found: {f}\")\n",
    "                file.append(f)\n",
    "        timetaken(starttime,\"fetching table list\")\n",
    "        return file\n",
    "\n",
    "    except Exception as e:\n",
    "        logging.error(f\"Found ERROR: {e}\")\n",
    "        return []\n",
    "    \n",
    "if __name__ == '__main__':\n",
    "    path = r\"C:\\Users\\ojhap\\Documents\\PRACTICE\\InventoryDataAnalysis\\datasets\"\n",
    "    list_of_table(path)\n",
    "\n",
    "\n"
   ]
  },
  {
   "cell_type": "code",
   "execution_count": 6,
   "id": "b5135fe4",
   "metadata": {},
   "outputs": [],
   "source": [
    "#Assuming that returned csv are the main data source which store incoming data. Now automatic the insertion\n",
    "\n",
    "#database connection \n",
    "load_dotenv()\n",
    "connection_string = os.getenv(\"connection_string\")\n",
    "engine = create_engine(connection_string)\n"
   ]
  },
  {
   "cell_type": "code",
   "execution_count": null,
   "id": "0bff4fc4",
   "metadata": {},
   "outputs": [],
   "source": [
    "# def insertion_data (file,path,engine):\n",
    "#     try:\n",
    "#         starttime = datetime.now()\n",
    "#         chunksize = 10000\n",
    "#         for f in file:\n",
    "#             full_path = os.path.join(path,f)\n",
    "#             table_name = f.replace(\".csv\",\"\")\n",
    "#             for chunk in pd.read_csv(full_path, chunksize= chunksize):\n",
    "#                 chunk.to_sql(table_name,engine, if_exists = 'append', index = False)\n",
    "#                 logging.info(f\"{len(chunk)} data inserted for table {table_name}\")\n",
    "#             timetaken(starttime, f\"to insert data for table {table_name}\")\n",
    "#         logging.info(\"data insertion completed \")\n",
    "#     except Exception as e:\n",
    "#         logging.error(f\"Error occur: {e}\")\n",
    "\n",
    "\n",
    "            \n",
    "# if __name__ == \"__main__\":\n",
    "#     path = r\"C:\\Users\\ojhap\\Documents\\PRACTICE\\InventoryDataAnalysis\\datasets\"\n",
    "#     engine = create_engine(connection_string)\n",
    "#     file = list_of_table(path)\n",
    "#     insertion_data(file,path,engine)"
   ]
  },
  {
   "cell_type": "code",
   "execution_count": 10,
   "id": "2781b9d3",
   "metadata": {},
   "outputs": [],
   "source": [
    "def inserting_top_1000_rows(file,path,engine):\n",
    "    try:\n",
    "        for f in file:\n",
    "            starttime = datetime.now()\n",
    "            chunksize = 1000\n",
    "            table_name = f.replace('.csv','')\n",
    "            full_csv_path = os.path.join(path,f)\n",
    "            df = pd.read_csv(full_csv_path , nrows= chunksize)\n",
    "            df = df.replace(\"Unknown\", '')\n",
    "            df.to_sql(table_name, engine, if_exists= \"append\", index= False)\n",
    "            logging.info(f\"top 1000 rows inserted for table {table_name}\")\n",
    "            timetaken(starttime, f\"inserting top 1000 rows of table {table_name}\")\n",
    "        logging.info('data insertion completed')\n",
    "    \n",
    "    except Exception as e:\n",
    "        logging.error(f'error occur: {e}')\n",
    "\n",
    "if __name__ == \"__main__\":\n",
    "    path = r\"C:\\Users\\ojhap\\Documents\\PRACTICE\\InventoryDataAnalysis\\datasets\"\n",
    "    file = list_of_table(path)\n",
    "    engine = create_engine(connection_string)\n",
    "    inserting_top_1000_rows(file,path, engine )\n"
   ]
  }
 ],
 "metadata": {
  "kernelspec": {
   "display_name": "Python 3",
   "language": "python",
   "name": "python3"
  },
  "language_info": {
   "codemirror_mode": {
    "name": "ipython",
    "version": 3
   },
   "file_extension": ".py",
   "mimetype": "text/x-python",
   "name": "python",
   "nbconvert_exporter": "python",
   "pygments_lexer": "ipython3",
   "version": "3.13.2"
  }
 },
 "nbformat": 4,
 "nbformat_minor": 5
}
